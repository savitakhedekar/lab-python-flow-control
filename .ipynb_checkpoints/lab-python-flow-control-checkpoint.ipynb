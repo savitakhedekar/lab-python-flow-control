{
 "cells": [
  {
   "cell_type": "markdown",
   "id": "d3bfc191-8885-42ee-b0a0-bbab867c6f9f",
   "metadata": {
    "tags": []
   },
   "source": [
    "# Lab | Flow Control"
   ]
  },
  {
   "cell_type": "markdown",
   "id": "3851fcd1-cf98-4653-9c89-e003b7ec9400",
   "metadata": {},
   "source": [
    "## Exercise: Managing Customer Orders Optimized\n",
    "\n",
    "In the last lab, you were starting an online store that sells various products. To ensure smooth operations, you developed a program that manages customer orders and inventory.\n",
    "\n",
    "You did so without using flow control. Let's go a step further and improve this code.\n",
    "\n",
    "Follow the steps below to complete the exercise:\n",
    "\n",
    "1. Look at your code from the lab data structures, and improve repeated code with loops.\n",
    "\n",
    "2. Instead of asking the user to input the name of three products that a customer wants to order, do the following:\n",
    "    \n",
    "    a. Prompt the user to enter the name of a product that a customer wants to order.\n",
    "    \n",
    "    b. Add the product name to the \"customer_orders\" set.\n",
    "    \n",
    "    c. Ask the user if they want to add another product (yes/no).\n",
    "    \n",
    "    d. Continue the loop until the user does not want to add another product.\n",
    "\n",
    "3. Instead of updating the inventory by subtracting 1 from the quantity of each product, only do it for  the products that were ordered (those in \"customer_orders\")."
   ]
  },
  {
   "cell_type": "code",
   "execution_count": 19,
   "id": "b22e82cb-68ab-442d-a180-367e0a036acd",
   "metadata": {},
   "outputs": [],
   "source": [
    "products = [\"t-shirt\", \"mug\", \"hat\", \"book\", \"keychain\"]"
   ]
  },
  {
   "cell_type": "code",
   "execution_count": 20,
   "id": "ef892f09-ac2b-46fb-b1de-a24713646ae6",
   "metadata": {},
   "outputs": [],
   "source": [
    "inventory = {}"
   ]
  },
  {
   "cell_type": "code",
   "execution_count": 24,
   "id": "6408381f-29e0-4a3d-aa3d-727452d92f42",
   "metadata": {},
   "outputs": [
    {
     "name": "stdin",
     "output_type": "stream",
     "text": [
      "enter a t-shirt qty 5\n",
      "enter a mug qty 6\n",
      "enter a hat qty 6\n",
      "enter a book qty 6\n",
      "enter a keychain qty 6\n"
     ]
    }
   ],
   "source": [
    "for i in products:\n",
    "    inventory[i]=int(input(f\"enter a {i} qty\"))"
   ]
  },
  {
   "cell_type": "code",
   "execution_count": 25,
   "id": "ce3a5cac-f7b3-423c-a53b-53d7f9d72912",
   "metadata": {},
   "outputs": [
    {
     "data": {
      "text/plain": [
       "{'t-shirt': 5, 'mug': 6, 'hat': 6, 'book': 6, 'keychain': 6}"
      ]
     },
     "execution_count": 25,
     "metadata": {},
     "output_type": "execute_result"
    }
   ],
   "source": [
    "inventory"
   ]
  },
  {
   "cell_type": "code",
   "execution_count": 9,
   "id": "6e6a9a3e-6b74-415e-959c-995f1603381b",
   "metadata": {},
   "outputs": [
    {
     "name": "stdin",
     "output_type": "stream",
     "text": [
      "enter a product you would like to order book\n",
      "enter a product you would like to order book\n",
      "enter a product you would like to order keychain\n",
      "enter a product you would like to order mug\n"
     ]
    }
   ],
   "source": [
    "customer_orders = set()\n",
    "for i in range(4):\n",
    "    customer_orders.add(input(\"enter a product you would like to order\"))"
   ]
  },
  {
   "cell_type": "code",
   "execution_count": 12,
   "id": "c371497d-bb5a-4473-8b45-3d9dca083ab8",
   "metadata": {},
   "outputs": [
    {
     "data": {
      "text/plain": [
       "{'book', 'keychain', 'mug'}"
      ]
     },
     "execution_count": 12,
     "metadata": {},
     "output_type": "execute_result"
    }
   ],
   "source": [
    "customer_orders"
   ]
  },
  {
   "cell_type": "code",
   "execution_count": 13,
   "id": "980b6f2a-a8b0-466e-80e5-61116fd1daa6",
   "metadata": {},
   "outputs": [
    {
     "data": {
      "text/plain": [
       "dict_keys(['mug', 'hat', 'keychain', 'book'])"
      ]
     },
     "execution_count": 13,
     "metadata": {},
     "output_type": "execute_result"
    }
   ],
   "source": [
    "inventory.keys()"
   ]
  },
  {
   "cell_type": "code",
   "execution_count": 18,
   "id": "b2166f96-4744-424b-8fff-ab847c3d8ad5",
   "metadata": {},
   "outputs": [
    {
     "ename": "SyntaxError",
     "evalue": "expected '(' (2899439306.py, line 1)",
     "output_type": "error",
     "traceback": [
      "\u001b[1;36m  Cell \u001b[1;32mIn[18], line 1\u001b[1;36m\u001b[0m\n\u001b[1;33m    def customer_orders= want to add another product\u001b[0m\n\u001b[1;37m                       ^\u001b[0m\n\u001b[1;31mSyntaxError\u001b[0m\u001b[1;31m:\u001b[0m expected '('\n"
     ]
    }
   ],
   "source": [
    "def inventory= want to add another product \n",
    "    if product = (input(\"Yes\"))\n",
    "        print(\"enter a product you would like to order\")\n",
    "    elif product = \n",
    "    else:                \n",
    "       print(\"Thank you for shopping with us! have good day!\")              "
   ]
  },
  {
   "cell_type": "code",
   "execution_count": 9,
   "id": "05e42106-a6e5-4140-aa3e-fa97cf59ebcc",
   "metadata": {},
   "outputs": [],
   "source": [
    "customer_orders = set()"
   ]
  },
  {
   "cell_type": "code",
   "execution_count": 15,
   "id": "aeead8a9-68b6-49b0-9660-78f9cc451a2c",
   "metadata": {},
   "outputs": [
    {
     "name": "stdin",
     "output_type": "stream",
     "text": [
      "Do you want to add another product? (yes/no):  yes\n",
      "Enter the name of a product that a customer wants to order:  hat\n",
      "Do you want to add another product? (yes/no):  yes\n",
      "Enter the name of a product that a customer wants to order:  keychain\n",
      "Do you want to add another product? (yes/no):  no\n"
     ]
    },
    {
     "name": "stdout",
     "output_type": "stream",
     "text": [
      "Products in customer orders: {'keychain', 'hat'}\n"
     ]
    }
   ],
   "source": [
    "while True:\n",
    "    add_more = input(\"Do you want to add another product? (yes/no): \").strip().lower()\n",
    "    if add_more == 'yes':\n",
    "        product_name = input(\"Enter the name of a product that a customer wants to order: \").strip().lower()\n",
    "        \n",
    "        customer_orders.add(product_name)\n",
    "    elif add_more == 'no':\n",
    "       break\n",
    "    else:\n",
    "        # Handle invalid input\n",
    "        print(\"Please answer with 'yes' or 'no'.\")\n",
    "print(\"Products in customer orders:\", customer_orders)"
   ]
  },
  {
   "cell_type": "code",
   "execution_count": 19,
   "id": "dd8bdefb-b09e-4e1c-a4e0-2bc36b6ef915",
   "metadata": {},
   "outputs": [
    {
     "ename": "NameError",
     "evalue": "name 'inventory' is not defined",
     "output_type": "error",
     "traceback": [
      "\u001b[1;31m---------------------------------------------------------------------------\u001b[0m",
      "\u001b[1;31mNameError\u001b[0m                                 Traceback (most recent call last)",
      "Cell \u001b[1;32mIn[19], line 2\u001b[0m\n\u001b[0;32m      1\u001b[0m \u001b[38;5;28;01mfor\u001b[39;00m product \u001b[38;5;129;01min\u001b[39;00m customer_orders:\n\u001b[1;32m----> 2\u001b[0m     \u001b[38;5;28;01mif\u001b[39;00m product \u001b[38;5;129;01min\u001b[39;00m inventory\u001b[38;5;241m.\u001b[39mkey():\n\u001b[0;32m      3\u001b[0m         inventory[item] \u001b[38;5;241m-\u001b[39m\u001b[38;5;241m=\u001b[39m \u001b[38;5;241m1\u001b[39m\n",
      "\u001b[1;31mNameError\u001b[0m: name 'inventory' is not defined"
     ]
    }
   ],
   "source": [
    "for product in customer_orders:\n",
    "    if product in inventory.key():\n",
    "        inventory[item] -= 1"
   ]
  },
  {
   "cell_type": "code",
   "execution_count": null,
   "id": "299f2ba7-c120-4a5b-82b2-258ba7c412c9",
   "metadata": {},
   "outputs": [],
   "source": []
  },
  {
   "cell_type": "code",
   "execution_count": null,
   "id": "28bc8ac3-e0e1-4a14-a6d6-442377eb73ca",
   "metadata": {},
   "outputs": [],
   "source": []
  }
 ],
 "metadata": {
  "kernelspec": {
   "display_name": "Python 3 (ipykernel)",
   "language": "python",
   "name": "python3"
  },
  "language_info": {
   "codemirror_mode": {
    "name": "ipython",
    "version": 3
   },
   "file_extension": ".py",
   "mimetype": "text/x-python",
   "name": "python",
   "nbconvert_exporter": "python",
   "pygments_lexer": "ipython3",
   "version": "3.11.7"
  }
 },
 "nbformat": 4,
 "nbformat_minor": 5
}
